{
 "cells": [
  {
   "cell_type": "code",
   "execution_count": 5,
   "metadata": {},
   "outputs": [],
   "source": [
    "import requests\n",
    "import json\n",
    "import shutil\n",
    "from tqdm import tqdm"
   ]
  },
  {
   "cell_type": "code",
   "execution_count": 20,
   "metadata": {},
   "outputs": [],
   "source": [
    "likes_dump = json.loads(open('likes_dump.json').read())"
   ]
  },
  {
   "cell_type": "code",
   "execution_count": 21,
   "metadata": {},
   "outputs": [
    {
     "data": {
      "text/plain": [
       "{'track_name': 'Lail Wa Raed Wa Reeh',\n",
       " 'artist_name': 'Wael Kfoury',\n",
       " 'album_name': 'Shafouha Wsaroo Yegolou',\n",
       " 'preview_url': 'https://p.scdn.co/mp3-preview/70a7161502d42273676076c997bc3c3e8e4a872c?cid=1980af88f3594c5aa4198035b0957641',\n",
       " 'file_name': '0'}"
      ]
     },
     "execution_count": 21,
     "metadata": {},
     "output_type": "execute_result"
    }
   ],
   "source": [
    "likes_dump[0]"
   ]
  },
  {
   "cell_type": "code",
   "execution_count": 10,
   "metadata": {},
   "outputs": [],
   "source": [
    "counter = 0"
   ]
  },
  {
   "cell_type": "code",
   "execution_count": 13,
   "metadata": {},
   "outputs": [],
   "source": [
    "output_dir = \"likes_dump\""
   ]
  },
  {
   "cell_type": "code",
   "execution_count": 15,
   "metadata": {},
   "outputs": [
    {
     "name": "stderr",
     "output_type": "stream",
     "text": [
      "100%|██████████| 1577/1577 [20:16<00:00,  1.30it/s]\n"
     ]
    }
   ],
   "source": [
    "for like in tqdm(likes_dump):\n",
    "    url = like['preview_url']\n",
    "    response = requests.get(url, stream=True)\n",
    "    file_name = f\"{str(counter)}\"\n",
    "    with open(f'{output_dir}\\\\{file_name}.mp3', 'wb') as out_file:\n",
    "        shutil.copyfileobj(response.raw, out_file)\n",
    "    like.update({\"file_name\": file_name})\n",
    "    counter += 1\n",
    "    "
   ]
  },
  {
   "cell_type": "code",
   "execution_count": 16,
   "metadata": {},
   "outputs": [],
   "source": [
    "from embed import embed_audio"
   ]
  },
  {
   "cell_type": "code",
   "execution_count": 23,
   "metadata": {},
   "outputs": [],
   "source": [
    "embeddings = []\n",
    "metadata = []"
   ]
  },
  {
   "cell_type": "code",
   "execution_count": null,
   "metadata": {},
   "outputs": [],
   "source": [
    "for like in tqdm(likes_dump):\n",
    "    path = f\"{output_dir}\\\\{like['file_name']}.mp3\"\n",
    "    embeddings.append(embed_audio(path, \"mean\", True))\n",
    "    metadata.append(like)"
   ]
  },
  {
   "cell_type": "code",
   "execution_count": 25,
   "metadata": {},
   "outputs": [
    {
     "name": "stderr",
     "output_type": "stream",
     "text": [
      "\u001b[32m2024-03-12 21:51:59.663\u001b[0m | \u001b[33m\u001b[1mWARNING \u001b[0m | \u001b[36mnomic.atlas\u001b[0m:\u001b[36mmap_data\u001b[0m:\u001b[36m96\u001b[0m - \u001b[33m\u001b[1mAn ID field was not specified in your data so one was generated for you in insertion order.\u001b[0m\n",
      "\u001b[32m2024-03-12 21:52:04.231\u001b[0m | \u001b[1mINFO    \u001b[0m | \u001b[36mnomic.dataset\u001b[0m:\u001b[36m_create_project\u001b[0m:\u001b[36m868\u001b[0m - \u001b[1mCreating dataset `likes-dump-mean-pooled-normalized-vggish`\u001b[0m\n",
      "\u001b[32m2024-03-12 21:52:04.794\u001b[0m | \u001b[1mINFO    \u001b[0m | \u001b[36mnomic.atlas\u001b[0m:\u001b[36mmap_data\u001b[0m:\u001b[36m108\u001b[0m - \u001b[1mUploading data to Atlas.\u001b[0m\n",
      "1it [00:01,  1.55s/it]\n",
      "\u001b[32m2024-03-12 21:52:06.406\u001b[0m | \u001b[1mINFO    \u001b[0m | \u001b[36mnomic.dataset\u001b[0m:\u001b[36m_add_data\u001b[0m:\u001b[36m1537\u001b[0m - \u001b[1mUpload succeeded.\u001b[0m\n",
      "\u001b[32m2024-03-12 21:52:06.408\u001b[0m | \u001b[1mINFO    \u001b[0m | \u001b[36mnomic.atlas\u001b[0m:\u001b[36mmap_data\u001b[0m:\u001b[36m123\u001b[0m - \u001b[1m`tyqnology/likes-dump-mean-pooled-normalized-vggish`: Data upload succeeded to dataset`\u001b[0m\n",
      "\u001b[32m2024-03-12 21:52:06.947\u001b[0m | \u001b[33m\u001b[1mWARNING \u001b[0m | \u001b[36mnomic.dataset\u001b[0m:\u001b[36mcreate_index\u001b[0m:\u001b[36m1116\u001b[0m - \u001b[33m\u001b[1mYou did not specify the `topic_label_field` option in your topic_model, your dataset will not contain auto-labeled topics.\u001b[0m\n",
      "\u001b[32m2024-03-12 21:52:08.655\u001b[0m | \u001b[1mINFO    \u001b[0m | \u001b[36mnomic.dataset\u001b[0m:\u001b[36mcreate_index\u001b[0m:\u001b[36m1246\u001b[0m - \u001b[1mCreated map `likes_dump_mean_pooled_normalized_vggish` in dataset `tyqnology/likes-dump-mean-pooled-normalized-vggish`: https://atlas.nomic.ai/data/tyqnology/likes-dump-mean-pooled-normalized-vggish/map\u001b[0m\n"
     ]
    }
   ],
   "source": [
    "from nomic import atlas\n",
    "import numpy as np\n",
    "dataset = atlas.map_data(data = metadata, \n",
    "                         embeddings=np.array(embeddings), \n",
    "                         identifier=\"likes_dump_mean_pooled_normalized_vggish\")"
   ]
  },
  {
   "cell_type": "code",
   "execution_count": null,
   "metadata": {},
   "outputs": [],
   "source": []
  }
 ],
 "metadata": {
  "kernelspec": {
   "display_name": "venv",
   "language": "python",
   "name": "python3"
  },
  "language_info": {
   "codemirror_mode": {
    "name": "ipython",
    "version": 3
   },
   "file_extension": ".py",
   "mimetype": "text/x-python",
   "name": "python",
   "nbconvert_exporter": "python",
   "pygments_lexer": "ipython3",
   "version": "3.11.3"
  }
 },
 "nbformat": 4,
 "nbformat_minor": 2
}
