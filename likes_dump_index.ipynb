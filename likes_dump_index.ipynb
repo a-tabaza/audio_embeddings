{
 "cells": [
  {
   "cell_type": "code",
   "execution_count": 1,
   "metadata": {},
   "outputs": [],
   "source": [
    "import requests\n",
    "import json\n",
    "import shutil\n",
    "from tqdm import tqdm"
   ]
  },
  {
   "cell_type": "code",
   "execution_count": 2,
   "metadata": {},
   "outputs": [],
   "source": [
    "likes_dump = json.loads(open('likes_dump.json').read())"
   ]
  },
  {
   "cell_type": "code",
   "execution_count": 3,
   "metadata": {},
   "outputs": [
    {
     "data": {
      "text/plain": [
       "{'track_name': 'Lail Wa Raed Wa Reeh',\n",
       " 'artist_name': 'Wael Kfoury',\n",
       " 'album_name': 'Shafouha Wsaroo Yegolou',\n",
       " 'preview_url': 'https://p.scdn.co/mp3-preview/70a7161502d42273676076c997bc3c3e8e4a872c?cid=1980af88f3594c5aa4198035b0957641',\n",
       " 'file_name': '0'}"
      ]
     },
     "execution_count": 3,
     "metadata": {},
     "output_type": "execute_result"
    }
   ],
   "source": [
    "likes_dump[0]"
   ]
  },
  {
   "cell_type": "code",
   "execution_count": 4,
   "metadata": {},
   "outputs": [],
   "source": [
    "output_dir = \"likes_dump\""
   ]
  },
  {
   "cell_type": "code",
   "execution_count": 13,
   "metadata": {},
   "outputs": [],
   "source": [
    "from embed import embed_audio"
   ]
  },
  {
   "cell_type": "code",
   "execution_count": 27,
   "metadata": {},
   "outputs": [],
   "source": [
    "embeddings = []\n",
    "metadata = []"
   ]
  },
  {
   "cell_type": "code",
   "execution_count": null,
   "metadata": {},
   "outputs": [],
   "source": [
    "for like in tqdm(likes_dump):\n",
    "    path = f\"{output_dir}\\\\{like['file_name']}.mp3\"\n",
    "    embeddings.append(embed_audio(path, \"mean\", False))\n",
    "    metadata.append(like)"
   ]
  },
  {
   "cell_type": "code",
   "execution_count": 29,
   "metadata": {},
   "outputs": [],
   "source": [
    "import faiss\n",
    "import numpy as np"
   ]
  },
  {
   "cell_type": "code",
   "execution_count": 34,
   "metadata": {},
   "outputs": [
    {
     "data": {
      "text/plain": [
       "array([-1.81230262e-01,  6.44206926e-02,  7.35934228e-02, -1.37778759e-01,\n",
       "        4.07932047e-03, -1.38579756e-01,  2.94779539e-02, -9.53543279e-03,\n",
       "       -4.83004116e-02, -1.15697958e-01,  1.32070422e-01, -8.56422111e-02,\n",
       "       -1.51799664e-01, -1.12825654e-01, -5.88135645e-02,  1.27862334e-01,\n",
       "        3.84036116e-02, -2.12560445e-02, -1.73576593e-01, -8.04620534e-02,\n",
       "        5.30953370e-02, -3.34248990e-02, -3.93147692e-02, -1.55327380e-01,\n",
       "        1.07123278e-01,  5.88312969e-02,  3.09033543e-02, -1.21938623e-02,\n",
       "       -4.87522483e-02, -3.90813127e-03, -3.74880359e-02,  2.97245439e-02,\n",
       "       -7.28809983e-02, -1.47262719e-02, -1.45172430e-02, -6.72788993e-02,\n",
       "        6.04405301e-03, -1.38505653e-01, -1.87475365e-02, -7.59722069e-02,\n",
       "        1.46007821e-01, -1.20325446e-01, -1.39634591e-02, -6.60315976e-02,\n",
       "        2.01815572e-02, -1.78309530e-02,  6.93681762e-02,  5.36243431e-02,\n",
       "       -1.12149775e-01, -2.88303457e-02,  9.15931687e-02, -1.05887502e-01,\n",
       "       -2.30558380e-01, -2.65714303e-02,  5.58021888e-02, -1.36637241e-01,\n",
       "        7.18633980e-02,  7.17110634e-02, -2.75501665e-02,  2.43375450e-03,\n",
       "        7.29924673e-03,  5.97549267e-02, -6.38176571e-05,  1.24641769e-01,\n",
       "       -3.32442820e-02, -3.92699465e-02,  5.13116270e-02, -6.28386810e-02,\n",
       "        1.73057273e-01, -7.96759725e-02,  1.44583836e-01, -9.17253178e-03,\n",
       "       -6.00477010e-02, -7.09555596e-02,  3.40758674e-02, -6.24992102e-02,\n",
       "       -1.28933549e-01,  1.02271661e-01, -2.29539145e-02,  9.18215662e-02,\n",
       "       -8.58427435e-02,  8.58494267e-02,  1.27886415e-01, -1.15725942e-01,\n",
       "       -2.46404614e-02,  8.42691883e-02,  1.62840690e-02, -3.17672752e-02,\n",
       "       -1.23640172e-01,  1.24786533e-02, -7.56454021e-02,  1.18414022e-01,\n",
       "        4.61560190e-02,  1.26167625e-01, -3.69217172e-02,  3.61967012e-02,\n",
       "        3.87880094e-02, -6.27140105e-02, -4.01188508e-02, -4.65619043e-02,\n",
       "       -4.36126962e-02,  5.33823036e-02, -6.45182356e-02, -2.94158589e-02,\n",
       "       -1.77256301e-01, -1.81180745e-01,  8.83130636e-03, -2.29230613e-01,\n",
       "       -4.04251963e-02, -1.16104968e-01, -1.62558034e-02, -1.49956197e-01,\n",
       "       -5.99033311e-02, -5.04390895e-02, -5.95314847e-03, -2.41862964e-02,\n",
       "       -5.55138141e-02,  7.80337839e-04, -4.14274679e-03,  6.27398351e-03,\n",
       "        2.44537592e-02,  1.87942669e-01, -1.08272240e-01,  2.53177118e-02,\n",
       "       -7.18993247e-02, -2.16921702e-01, -8.10427684e-03, -1.96974203e-02],\n",
       "      dtype=float32)"
      ]
     },
     "execution_count": 34,
     "metadata": {},
     "output_type": "execute_result"
    }
   ],
   "source": [
    "embeddings[0]"
   ]
  },
  {
   "cell_type": "code",
   "execution_count": 30,
   "metadata": {},
   "outputs": [],
   "source": [
    "np.save(\"embeddings.npy\", np.array(embeddings))"
   ]
  },
  {
   "cell_type": "code",
   "execution_count": 36,
   "metadata": {},
   "outputs": [],
   "source": [
    "import soundfile"
   ]
  },
  {
   "cell_type": "code",
   "execution_count": 37,
   "metadata": {},
   "outputs": [],
   "source": [
    "signal, sr = soundfile.read(\"likes_dump\\\\0.mp3\")"
   ]
  },
  {
   "cell_type": "code",
   "execution_count": 39,
   "metadata": {},
   "outputs": [
    {
     "data": {
      "text/plain": [
       "(1310328, 2)"
      ]
     },
     "execution_count": 39,
     "metadata": {},
     "output_type": "execute_result"
    }
   ],
   "source": [
    "signal.shape"
   ]
  },
  {
   "cell_type": "code",
   "execution_count": 31,
   "metadata": {},
   "outputs": [],
   "source": [
    "index = faiss.IndexFlatL2(128)"
   ]
  },
  {
   "cell_type": "code",
   "execution_count": 32,
   "metadata": {},
   "outputs": [],
   "source": [
    "index.add(np.array(embeddings))"
   ]
  },
  {
   "cell_type": "code",
   "execution_count": 33,
   "metadata": {},
   "outputs": [],
   "source": [
    "faiss.write_index(index, \"likes_index_unquantized.faiss\")"
   ]
  },
  {
   "cell_type": "code",
   "execution_count": null,
   "metadata": {},
   "outputs": [],
   "source": [
    "import requests"
   ]
  },
  {
   "cell_type": "code",
   "execution_count": 6,
   "metadata": {},
   "outputs": [],
   "source": [
    "api_key = \"2d2a98aa352c1eeb48aff96c34903dc4\"\n",
    "shared_secret = \"ee336f501f70354f703358ad142cbe8d\""
   ]
  },
  {
   "cell_type": "code",
   "execution_count": 9,
   "metadata": {},
   "outputs": [],
   "source": [
    "from urllib.parse import quote"
   ]
  },
  {
   "cell_type": "code",
   "execution_count": 10,
   "metadata": {},
   "outputs": [
    {
     "data": {
      "text/plain": [
       "'Wael%20Kfoury'"
      ]
     },
     "execution_count": 10,
     "metadata": {},
     "output_type": "execute_result"
    }
   ],
   "source": [
    "quote(likes_dump[0][\"artist_name\"])"
   ]
  },
  {
   "cell_type": "code",
   "execution_count": 11,
   "metadata": {},
   "outputs": [],
   "source": [
    "def query_lastfm(artist_name, track_name):\n",
    "    res = requests.get(url = f\"https://ws.audioscrobbler.com/2.0/?method=track.getInfo&api_key={api_key}&artist={artist_name}&track={track_name}&format=json\")\n",
    "    return res.json()"
   ]
  },
  {
   "cell_type": "code",
   "execution_count": null,
   "metadata": {},
   "outputs": [],
   "source": [
    "for like in likes_dump:\n",
    "    artist_name = like[\"artist_name\"]\n",
    "    track_name = like[\"track_name\"]\n",
    "    res = query_lastfm(artist_name, track_name)\n",
    "    "
   ]
  },
  {
   "cell_type": "code",
   "execution_count": 12,
   "metadata": {},
   "outputs": [
    {
     "data": {
      "text/plain": [
       "{'track': {'name': 'Lail Wa Raed Wa Reeh',\n",
       "  'url': 'https://www.last.fm/music/Wael+Kfoury/_/Lail+Wa+Raed+Wa+Reeh',\n",
       "  'duration': '315000',\n",
       "  'streamable': {'#text': '0', 'fulltrack': '0'},\n",
       "  'listeners': '677',\n",
       "  'playcount': '2998',\n",
       "  'artist': {'name': 'Wael Kfoury',\n",
       "   'mbid': 'e29614b4-0143-45bd-9feb-6f8129245d71',\n",
       "   'url': 'https://www.last.fm/music/Wael+Kfoury'},\n",
       "  'album': {'artist': 'Wael Kfoury',\n",
       "   'title': 'Shafouha Wsaroo Yegolou',\n",
       "   'url': 'https://www.last.fm/music/Wael+Kfoury/Shafouha+Wsaroo+Yegolou',\n",
       "   'image': [{'#text': 'https://lastfm.freetls.fastly.net/i/u/34s/c246966b9c0459a0238411bcd71b7488.png',\n",
       "     'size': 'small'},\n",
       "    {'#text': 'https://lastfm.freetls.fastly.net/i/u/64s/c246966b9c0459a0238411bcd71b7488.png',\n",
       "     'size': 'medium'},\n",
       "    {'#text': 'https://lastfm.freetls.fastly.net/i/u/174s/c246966b9c0459a0238411bcd71b7488.png',\n",
       "     'size': 'large'},\n",
       "    {'#text': 'https://lastfm.freetls.fastly.net/i/u/300x300/c246966b9c0459a0238411bcd71b7488.png',\n",
       "     'size': 'extralarge'}]},\n",
       "  'toptags': {'tag': []}}}"
      ]
     },
     "execution_count": 12,
     "metadata": {},
     "output_type": "execute_result"
    }
   ],
   "source": [
    "query_lastfm(likes_dump[0][\"artist_name\"], likes_dump[0][\"track_name\"])"
   ]
  },
  {
   "cell_type": "code",
   "execution_count": null,
   "metadata": {},
   "outputs": [],
   "source": []
  }
 ],
 "metadata": {
  "kernelspec": {
   "display_name": "venv",
   "language": "python",
   "name": "python3"
  },
  "language_info": {
   "codemirror_mode": {
    "name": "ipython",
    "version": 3
   },
   "file_extension": ".py",
   "mimetype": "text/x-python",
   "name": "python",
   "nbconvert_exporter": "python",
   "pygments_lexer": "ipython3",
   "version": "3.11.3"
  }
 },
 "nbformat": 4,
 "nbformat_minor": 2
}
